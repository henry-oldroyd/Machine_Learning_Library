{
 "cells": [
  {
   "cell_type": "code",
   "execution_count": 1,
   "metadata": {},
   "outputs": [],
   "source": [
    "# imports\n",
    "from machine_learning_functions import *"
   ]
  },
  {
   "cell_type": "code",
   "execution_count": 2,
   "metadata": {},
   "outputs": [
    {
     "data": {
      "text/plain": [
       "array([ 0.5,  1. , 10. , -5. , -0.1,  0. , -1. , -0.3,  0.6,  0.4])"
      ]
     },
     "execution_count": 2,
     "metadata": {},
     "output_type": "execute_result"
    }
   ],
   "source": [
    "(X := np.array([0.5, 1.0, 10.0, -5.0, -0.1, 0.0, -1.0, -0.3, 0.6, 0.4]))"
   ]
  },
  {
   "cell_type": "code",
   "execution_count": 3,
   "metadata": {},
   "outputs": [],
   "source": [
    "sigmoid = Sigmoid()"
   ]
  },
  {
   "cell_type": "code",
   "execution_count": 4,
   "metadata": {},
   "outputs": [
    {
     "data": {
      "text/plain": [
       "array([ 0.04843825,  0.03301454,  0.00490444, -0.01170297,  0.11024104,\n",
       "        0.09090909, -0.12063188,  0.19182462,  0.04429912,  0.05343058])"
      ]
     },
     "execution_count": 4,
     "metadata": {},
     "output_type": "execute_result"
    }
   ],
   "source": [
    "sigmoid(X)"
   ]
  },
  {
   "cell_type": "code",
   "execution_count": 5,
   "metadata": {},
   "outputs": [
    {
     "data": {
      "text/plain": [
       "array([[ 0.04609199,  0.        ,  0.        ,  0.        ,  0.        ,\n",
       "         0.        ,  0.        ,  0.        ,  0.        ,  0.        ],\n",
       "       [ 0.        ,  0.03192458,  0.        ,  0.        ,  0.        ,\n",
       "         0.        ,  0.        ,  0.        ,  0.        ,  0.        ],\n",
       "       [ 0.        ,  0.        ,  0.00488039,  0.        ,  0.        ,\n",
       "         0.        ,  0.        ,  0.        ,  0.        ,  0.        ],\n",
       "       [ 0.        ,  0.        ,  0.        , -0.01183993,  0.        ,\n",
       "         0.        ,  0.        ,  0.        ,  0.        ,  0.        ],\n",
       "       [ 0.        ,  0.        ,  0.        ,  0.        ,  0.09808796,\n",
       "         0.        ,  0.        ,  0.        ,  0.        ,  0.        ],\n",
       "       [ 0.        ,  0.        ,  0.        ,  0.        ,  0.        ,\n",
       "         0.08264463,  0.        ,  0.        ,  0.        ,  0.        ],\n",
       "       [ 0.        ,  0.        ,  0.        ,  0.        ,  0.        ,\n",
       "         0.        , -0.13518393,  0.        ,  0.        ,  0.        ],\n",
       "       [ 0.        ,  0.        ,  0.        ,  0.        ,  0.        ,\n",
       "         0.        ,  0.        ,  0.15502793,  0.        ,  0.        ],\n",
       "       [ 0.        ,  0.        ,  0.        ,  0.        ,  0.        ,\n",
       "         0.        ,  0.        ,  0.        ,  0.04233671,  0.        ],\n",
       "       [ 0.        ,  0.        ,  0.        ,  0.        ,  0.        ,\n",
       "         0.        ,  0.        ,  0.        ,  0.        ,  0.05057576]])"
      ]
     },
     "execution_count": 5,
     "metadata": {},
     "output_type": "execute_result"
    }
   ],
   "source": [
    "sigmoid.dX(X)"
   ]
  },
  {
   "cell_type": "code",
   "execution_count": 6,
   "metadata": {},
   "outputs": [
    {
     "data": {
      "text/plain": [
       "(10, 10)"
      ]
     },
     "execution_count": 6,
     "metadata": {},
     "output_type": "execute_result"
    }
   ],
   "source": [
    "sigmoid.dX(X).shape"
   ]
  },
  {
   "cell_type": "code",
   "execution_count": 7,
   "metadata": {},
   "outputs": [],
   "source": [
    "# activation = RELU()\n",
    "activation = Leaky_RELU(0.2)"
   ]
  },
  {
   "cell_type": "code",
   "execution_count": 8,
   "metadata": {},
   "outputs": [
    {
     "data": {
      "text/plain": [
       "array([ 0.5 ,  1.  , 10.  , -1.  , -0.02,  0.  , -0.2 , -0.06,  0.6 ,\n",
       "        0.4 ])"
      ]
     },
     "execution_count": 8,
     "metadata": {},
     "output_type": "execute_result"
    }
   ],
   "source": [
    "activation(X)"
   ]
  },
  {
   "cell_type": "code",
   "execution_count": 9,
   "metadata": {},
   "outputs": [
    {
     "data": {
      "text/plain": [
       "array([1. , 1. , 1. , 0.2, 0.2, 1. , 0.2, 0.2, 1. , 1. ])"
      ]
     },
     "execution_count": 9,
     "metadata": {},
     "output_type": "execute_result"
    }
   ],
   "source": [
    "activation.vectorised_derivative(X)"
   ]
  },
  {
   "cell_type": "code",
   "execution_count": 10,
   "metadata": {},
   "outputs": [
    {
     "data": {
      "text/plain": [
       "array([[1. , 0. , 0. , 0. , 0. , 0. , 0. , 0. , 0. , 0. ],\n",
       "       [0. , 1. , 0. , 0. , 0. , 0. , 0. , 0. , 0. , 0. ],\n",
       "       [0. , 0. , 1. , 0. , 0. , 0. , 0. , 0. , 0. , 0. ],\n",
       "       [0. , 0. , 0. , 0.2, 0. , 0. , 0. , 0. , 0. , 0. ],\n",
       "       [0. , 0. , 0. , 0. , 0.2, 0. , 0. , 0. , 0. , 0. ],\n",
       "       [0. , 0. , 0. , 0. , 0. , 1. , 0. , 0. , 0. , 0. ],\n",
       "       [0. , 0. , 0. , 0. , 0. , 0. , 0.2, 0. , 0. , 0. ],\n",
       "       [0. , 0. , 0. , 0. , 0. , 0. , 0. , 0.2, 0. , 0. ],\n",
       "       [0. , 0. , 0. , 0. , 0. , 0. , 0. , 0. , 1. , 0. ],\n",
       "       [0. , 0. , 0. , 0. , 0. , 0. , 0. , 0. , 0. , 1. ]])"
      ]
     },
     "execution_count": 10,
     "metadata": {},
     "output_type": "execute_result"
    }
   ],
   "source": [
    "activation.dX(X)"
   ]
  },
  {
   "cell_type": "markdown",
   "metadata": {},
   "source": [
    "Test the layer class"
   ]
  },
  {
   "cell_type": "code",
   "execution_count": 11,
   "metadata": {},
   "outputs": [],
   "source": [
    "layer = Layer_Transformation(4, 2, RELU())"
   ]
  },
  {
   "cell_type": "code",
   "execution_count": 12,
   "metadata": {},
   "outputs": [
    {
     "data": {
      "text/plain": [
       "array([[-0.09064785, -0.79155874],\n",
       "       [-0.44657293, -0.2488978 ],\n",
       "       [-0.51476828,  0.60746217],\n",
       "       [ 0.5473846 , -0.99528016]])"
      ]
     },
     "execution_count": 12,
     "metadata": {},
     "output_type": "execute_result"
    }
   ],
   "source": [
    "layer.weights"
   ]
  },
  {
   "cell_type": "code",
   "execution_count": 13,
   "metadata": {},
   "outputs": [
    {
     "data": {
      "text/plain": [
       "array([0.5, 0.5, 0.5, 0.5])"
      ]
     },
     "execution_count": 13,
     "metadata": {},
     "output_type": "execute_result"
    }
   ],
   "source": [
    "layer.bias"
   ]
  },
  {
   "cell_type": "code",
   "execution_count": 14,
   "metadata": {},
   "outputs": [
    {
     "data": {
      "text/plain": [
       "array([0.5, 0.5, 0.5, 0.5])"
      ]
     },
     "execution_count": 14,
     "metadata": {},
     "output_type": "execute_result"
    }
   ],
   "source": [
    "layer.get_activations(\n",
    "    np.array([0,0])\n",
    ")"
   ]
  },
  {
   "cell_type": "code",
   "execution_count": 15,
   "metadata": {},
   "outputs": [
    {
     "data": {
      "text/plain": [
       "array([-0.        , -0.        ,  0.59269389,  0.05210445])"
      ]
     },
     "execution_count": 15,
     "metadata": {},
     "output_type": "execute_result"
    }
   ],
   "source": [
    "layer.get_activations(\n",
    "    np.array([1,1])\n",
    ")"
   ]
  },
  {
   "cell_type": "code",
   "execution_count": 16,
   "metadata": {},
   "outputs": [
    {
     "data": {
      "text/plain": [
       "array([-0.        ,  0.14655799,  0.81702314, -0.        ])"
      ]
     },
     "execution_count": 16,
     "metadata": {},
     "output_type": "execute_result"
    }
   ],
   "source": [
    "layer.get_activations(\n",
    "    np.array([0.34,0.81])\n",
    ")"
   ]
  },
  {
   "cell_type": "code",
   "execution_count": 17,
   "metadata": {},
   "outputs": [
    {
     "data": {
      "text/plain": [
       "array([-0.17198285,  0.14655799,  0.81702314, -0.12006616])"
      ]
     },
     "execution_count": 17,
     "metadata": {},
     "output_type": "execute_result"
    }
   ],
   "source": [
    "layer.weighted_sums"
   ]
  },
  {
   "cell_type": "code",
   "execution_count": 18,
   "metadata": {},
   "outputs": [
    {
     "data": {
      "text/plain": [
       "array([-0.        ,  0.14655799,  0.81702314, -0.        ])"
      ]
     },
     "execution_count": 18,
     "metadata": {},
     "output_type": "execute_result"
    }
   ],
   "source": [
    "layer.activations"
   ]
  },
  {
   "cell_type": "code",
   "execution_count": 19,
   "metadata": {},
   "outputs": [
    {
     "data": {
      "text/plain": [
       "(array([[0., 0., 0., 0.],\n",
       "        [0., 1., 0., 0.],\n",
       "        [0., 0., 1., 0.],\n",
       "        [0., 0., 0., 0.]]),\n",
       " array([0.34, 0.81]),\n",
       " array([[-0.09064785, -0.79155874],\n",
       "        [-0.44657293, -0.2488978 ],\n",
       "        [-0.51476828,  0.60746217],\n",
       "        [ 0.5473846 , -0.99528016]]))"
      ]
     },
     "execution_count": 19,
     "metadata": {},
     "output_type": "execute_result"
    }
   ],
   "source": [
    "(\n",
    "    layer.dAdZ(),\n",
    "    layer.dZdW(),\n",
    "    layer.dZdAp()\n",
    ")\n"
   ]
  },
  {
   "cell_type": "code",
   "execution_count": 20,
   "metadata": {},
   "outputs": [
    {
     "data": {
      "text/plain": [
       "0.013739943763856552"
      ]
     },
     "execution_count": 20,
     "metadata": {},
     "output_type": "execute_result"
    }
   ],
   "source": [
    "cost_func = MSE()\n",
    "cost_func(\n",
    "    layer.activations,\n",
    "    np.array([0, 0, 1, 0])\n",
    ")"
   ]
  },
  {
   "cell_type": "code",
   "execution_count": 21,
   "metadata": {},
   "outputs": [
    {
     "data": {
      "text/plain": [
       "(array([[0., 0., 0., 0.],\n",
       "        [0., 1., 0., 0.],\n",
       "        [0., 0., 1., 0.],\n",
       "        [0., 0., 0., 0.]]),\n",
       " array([-0.        ,  0.07327899, -0.09148843, -0.        ]),\n",
       " array([ 0.        ,  0.07327899, -0.09148843,  0.        ]))"
      ]
     },
     "execution_count": 21,
     "metadata": {},
     "output_type": "execute_result"
    }
   ],
   "source": [
    "(\n",
    "    (dAdZ := layer.dAdZ()),\n",
    "    (dcdA := cost_func.dP()),\n",
    "    (dcdZ := dAdZ @ dcdA)   \n",
    ")"
   ]
  },
  {
   "cell_type": "code",
   "execution_count": 22,
   "metadata": {},
   "outputs": [
    {
     "data": {
      "text/plain": [
       "(array([ 0.        ,  0.07327899, -0.09148843,  0.        ]),\n",
       " array([0.34, 0.81]),\n",
       " array([[ 0.        ,  0.        ],\n",
       "        [ 0.02491486,  0.05935599],\n",
       "        [-0.03110607, -0.07410563],\n",
       "        [ 0.        ,  0.        ]]))"
      ]
     },
     "execution_count": 22,
     "metadata": {},
     "output_type": "execute_result"
    }
   ],
   "source": [
    "# here I will use outer product rather than transverses\n",
    "(\n",
    "    dcdZ,\n",
    "    (dZdW := layer.dZdW()),\n",
    "    (dcdW := np.outer(dcdZ, dZdW))\n",
    ")"
   ]
  },
  {
   "cell_type": "code",
   "execution_count": 23,
   "metadata": {},
   "outputs": [
    {
     "data": {
      "text/plain": [
       "(array([ 0.        ,  0.07327899, -0.09148843,  0.        ]),\n",
       " array([ 0.        ,  0.07327899, -0.09148843,  0.        ]))"
      ]
     },
     "execution_count": 23,
     "metadata": {},
     "output_type": "execute_result"
    }
   ],
   "source": [
    "# (\n",
    "#     (dZdB := layer.dZdB()),\n",
    "#     dcdZ,\n",
    "#     (dcdB := dZdB @ dcdZ)\n",
    "# )\n",
    "\n",
    "(\n",
    "    dcdZ,\n",
    "    (dcdB := dcdZ)\n",
    ")"
   ]
  },
  {
   "cell_type": "code",
   "execution_count": 24,
   "metadata": {},
   "outputs": [
    {
     "data": {
      "text/plain": [
       "(array([[-0.09064785, -0.79155874],\n",
       "        [-0.44657293, -0.2488978 ],\n",
       "        [-0.51476828,  0.60746217],\n",
       "        [ 0.5473846 , -0.99528016]]),\n",
       " array([ 0.        ,  0.07327899, -0.09148843,  0.        ]),\n",
       " array([ 0.01437093, -0.07381474]))"
      ]
     },
     "execution_count": 24,
     "metadata": {},
     "output_type": "execute_result"
    }
   ],
   "source": [
    "(\n",
    "    (dZdAp := layer.dZdAp()),\n",
    "    dcdZ,\n",
    "    (dcdAp := dZdAp.T @ dcdZ)\n",
    ")"
   ]
  },
  {
   "cell_type": "code",
   "execution_count": 25,
   "metadata": {},
   "outputs": [],
   "source": [
    "model = FFN(\n",
    "    [2,4,2],\n",
    "    [RELU() for _ in range(2)],\n",
    "    MSE()\n",
    ")"
   ]
  },
  {
   "cell_type": "code",
   "execution_count": 26,
   "metadata": {},
   "outputs": [
    {
     "data": {
      "text/plain": [
       "(array([[-0.55816015,  0.2858176 ],\n",
       "        [-0.21456866, -0.57383174],\n",
       "        [-0.43776862, -0.84339484],\n",
       "        [ 0.80917179,  0.88996469]]),\n",
       " array([0.5, 0.5, 0.5, 0.5]),\n",
       " array([[-0.35003769,  0.9576626 , -0.8890226 ,  0.16348804],\n",
       "        [-0.20132945,  0.35412975,  0.50686099,  0.80956816]]),\n",
       " array([0.5, 0.5]))"
      ]
     },
     "execution_count": 26,
     "metadata": {},
     "output_type": "execute_result"
    }
   ],
   "source": [
    "(\n",
    "    model.tranformation_layers[0].weights,\n",
    "    model.tranformation_layers[0].bias,\n",
    "    model.tranformation_layers[1].weights,\n",
    "    model.tranformation_layers[1].bias\n",
    ")"
   ]
  },
  {
   "cell_type": "code",
   "execution_count": 27,
   "metadata": {},
   "outputs": [
    {
     "data": {
      "text/plain": [
       "(array([0.44104518, 1.23461473]), 0.18373728297811864)"
      ]
     },
     "execution_count": 27,
     "metadata": {},
     "output_type": "execute_result"
    }
   ],
   "source": [
    "model.foreward_propagate(\n",
    "    np.array([0, 0]),\n",
    "    np.array([1, 1])\n",
    ")"
   ]
  },
  {
   "cell_type": "code",
   "execution_count": 28,
   "metadata": {},
   "outputs": [
    {
     "data": {
      "text/plain": [
       "{'W2': array([[-0.27947741, -0.27947741, -0.27947741, -0.27947741],\n",
       "        [ 0.11730736,  0.11730736,  0.11730736,  0.11730736]]),\n",
       " 'B2': array([-0.55895482,  0.23461473]),\n",
       " 'W1': array([[ 0.,  0.],\n",
       "        [-0., -0.],\n",
       "        [ 0.,  0.],\n",
       "        [ 0.,  0.]]),\n",
       " 'B1': array([ 0.1484204 , -0.45220608,  0.61584053,  0.09855418])}"
      ]
     },
     "execution_count": 28,
     "metadata": {},
     "output_type": "execute_result"
    }
   ],
   "source": [
    "model.back_propogate(\n",
    "    np.array([0, 0]),\n",
    "    np.array([1, 1])\n",
    ")"
   ]
  },
  {
   "cell_type": "code",
   "execution_count": 29,
   "metadata": {},
   "outputs": [],
   "source": [
    "from random import uniform"
   ]
  },
  {
   "cell_type": "code",
   "execution_count": 30,
   "metadata": {},
   "outputs": [],
   "source": [
    "# # create random function to learn\n",
    "# degree = 1\n",
    "# coefficients = [uniform(-1, 1) for _ in range(degree+1)]\n",
    "\n",
    "# def polynomial_function(x):\n",
    "#     return sum(coefficients[i] * x**i for i in range(degree+1))\n",
    "\n",
    "def linear_function(x): return 2*x+5"
   ]
  },
  {
   "cell_type": "code",
   "execution_count": 31,
   "metadata": {},
   "outputs": [],
   "source": [
    "num_data_items = 1000\n",
    "X_data = [uniform(-100, 100) for _ in range(num_data_items)]\n",
    "Y_data = [linear_function(X_data[i]) for i in range(num_data_items)]\n",
    "\n",
    "X_data, Y_data = np.array(X_data), np.array(Y_data)"
   ]
  },
  {
   "cell_type": "code",
   "execution_count": 32,
   "metadata": {},
   "outputs": [],
   "source": [
    "function_emulator_model = FFN(\n",
    "    [1, 1],\n",
    "    [Linear_Activation_Funcion()],\n",
    "    MSE()\n",
    ")"
   ]
  },
  {
   "cell_type": "code",
   "execution_count": 33,
   "metadata": {},
   "outputs": [
    {
     "data": {
      "text/plain": [
       "(array([[0.51662746]]), array([0.5]))"
      ]
     },
     "execution_count": 33,
     "metadata": {},
     "output_type": "execute_result"
    }
   ],
   "source": [
    "(\n",
    "    function_emulator_model.tranformation_layers[0].weights,\n",
    "    function_emulator_model.tranformation_layers[0].bias,\n",
    ")"
   ]
  },
  {
   "cell_type": "code",
   "execution_count": 34,
   "metadata": {},
   "outputs": [],
   "source": [
    "# function_emulator_model.transformation_layers[0].weights = np.array([[2.0]])\n",
    "# function_emulator_model.transformation_layers[0].bias = np.array([5.0])"
   ]
  },
  {
   "cell_type": "code",
   "execution_count": 35,
   "metadata": {},
   "outputs": [],
   "source": [
    "# function_emulator_model.transformation_layers[0].weights = np.array([[1.2]])\n",
    "# function_emulator_model.transformation_layers[0].bias = np.array([3.0])"
   ]
  },
  {
   "cell_type": "code",
   "execution_count": 36,
   "metadata": {},
   "outputs": [
    {
     "data": {
      "text/plain": [
       "(array([1.53325493]), 55.75228194202673)"
      ]
     },
     "execution_count": 36,
     "metadata": {},
     "output_type": "execute_result"
    }
   ],
   "source": [
    "function_emulator_model.foreward_propagate(2, 2*2+5)"
   ]
  },
  {
   "cell_type": "code",
   "execution_count": 37,
   "metadata": {},
   "outputs": [
    {
     "data": {
      "text/plain": [
       "{'W1': array([[-29.86698028]]), 'B1': array([-14.93349014])}"
      ]
     },
     "execution_count": 37,
     "metadata": {},
     "output_type": "execute_result"
    }
   ],
   "source": [
    "function_emulator_model.back_propogate(2, 2*2+5)"
   ]
  },
  {
   "cell_type": "code",
   "execution_count": 38,
   "metadata": {},
   "outputs": [
    {
     "data": {
      "text/plain": [
       "(array([-1.04988239]), 0.0024882533143272354)"
      ]
     },
     "execution_count": 38,
     "metadata": {},
     "output_type": "execute_result"
    }
   ],
   "source": [
    "function_emulator_model.foreward_propagate(-3, (-3)*2+5)"
   ]
  },
  {
   "cell_type": "code",
   "execution_count": 39,
   "metadata": {},
   "outputs": [
    {
     "data": {
      "text/plain": [
       "{'W1': array([[0.29929437]]), 'B1': array([-0.09976479])}"
      ]
     },
     "execution_count": 39,
     "metadata": {},
     "output_type": "execute_result"
    }
   ],
   "source": [
    "function_emulator_model.back_propogate(-3, (-3)*2+5)"
   ]
  },
  {
   "cell_type": "code",
   "execution_count": 40,
   "metadata": {},
   "outputs": [],
   "source": [
    "training_manager = Model(\n",
    "    FFN=function_emulator_model,\n",
    "    data_set=(X_data, Y_data)\n",
    ")"
   ]
  },
  {
   "cell_type": "code",
   "execution_count": 41,
   "metadata": {},
   "outputs": [
    {
     "data": {
      "text/plain": [
       "14.35824670325447"
      ]
     },
     "execution_count": 41,
     "metadata": {},
     "output_type": "execute_result"
    }
   ],
   "source": [
    "training_manager.train_and_evaluate(\n",
    "    learning_rate=0.0001,\n",
    "    epochs=10,\n",
    "    batch_size=50\n",
    ")"
   ]
  },
  {
   "cell_type": "code",
   "execution_count": 42,
   "metadata": {},
   "outputs": [
    {
     "data": {
      "text/plain": [
       "(array([[1.99942258]]), array([1.21192484]))"
      ]
     },
     "execution_count": 42,
     "metadata": {},
     "output_type": "execute_result"
    }
   ],
   "source": [
    "(\n",
    "    function_emulator_model.tranformation_layers[0].weights,\n",
    "    function_emulator_model.tranformation_layers[0].bias,\n",
    ")"
   ]
  },
  {
   "cell_type": "code",
   "execution_count": 43,
   "metadata": {},
   "outputs": [
    {
     "name": "stdout",
     "output_type": "stream",
     "text": [
      "For the input 0.8926 the network predicted 2.9967 and actual value was 6.7853 giving a cost of 14.3534\n",
      "For the input -0.8759 the network predicted -0.5393 and actual value was 3.2482 giving a cost of 14.3457\n",
      "For the input -0.0286 the network predicted 1.1548 and actual value was 4.9428 giving a cost of 14.3494\n",
      "For the input -0.8426 the network predicted -0.4728 and actual value was 3.3147 giving a cost of 14.3458\n",
      "For the input 0.8849 the network predicted 2.9812 and actual value was 6.7698 giving a cost of 14.3534\n",
      "For the input -0.6873 the network predicted -0.1622 and actual value was 3.6255 giving a cost of 14.3465\n",
      "For the input 0.1227 the network predicted 1.4573 and actual value was 5.2455 giving a cost of 14.3501\n",
      "For the input 0.0584 the network predicted 1.3287 and actual value was 5.1168 giving a cost of 14.3498\n",
      "For the input 0.0623 the network predicted 1.3364 and actual value was 5.1245 giving a cost of 14.3498\n",
      "For the input -0.9207 the network predicted -0.6290 and actual value was 3.1585 giving a cost of 14.3455\n"
     ]
    }
   ],
   "source": [
    "for _ in range(10):\n",
    "    x = uniform(-1, 1)\n",
    "    y = linear_function(x)\n",
    "    p, c = training_manager.FFN.foreward_propagate(\n",
    "        np.array([x,]), np.array([y,])\n",
    "    )\n",
    "    print(f\"For the input {x:.4f} the network predicted {p[0]:.4f} and actual value was {y:.4f} giving a cost of {c:.4f}\")"
   ]
  },
  {
   "cell_type": "code",
   "execution_count": 44,
   "metadata": {},
   "outputs": [],
   "source": [
    "# create random function to learn\n",
    "degree = 1\n",
    "coefficients = [uniform(-1, 1) for _ in range(degree+1)]\n",
    "\n",
    "def polynomial_function(x):\n",
    "    return sum(coefficients[i] * x**i for i in range(degree+1))"
   ]
  },
  {
   "cell_type": "code",
   "execution_count": 45,
   "metadata": {},
   "outputs": [
    {
     "data": {
      "text/plain": [
       "[0.35074834378407993, -0.6476307797195384]"
      ]
     },
     "execution_count": 45,
     "metadata": {},
     "output_type": "execute_result"
    }
   ],
   "source": [
    "coefficients"
   ]
  },
  {
   "cell_type": "code",
   "execution_count": 46,
   "metadata": {},
   "outputs": [],
   "source": [
    "num_data_items = 10000\n",
    "X_data = [uniform(-100, 100) for _ in range(num_data_items)]\n",
    "Y_data = [linear_function(X_data[i]) for i in range(num_data_items)]\n",
    "\n",
    "X_data, Y_data = np.array(X_data), np.array(Y_data)"
   ]
  },
  {
   "cell_type": "code",
   "execution_count": 47,
   "metadata": {},
   "outputs": [],
   "source": [
    "function_emulator_model = FFN(\n",
    "    [1, 1, 1],\n",
    "    [Leaky_RELU(0.01), Linear_Activation_Funcion()],\n",
    "    MSE()\n",
    ")\n",
    "\n",
    "# function_emulator_model = FFN(\n",
    "#     [1, 1],\n",
    "#     [Linear_Activation_Funcion()],\n",
    "#     MSE()\n",
    "# )"
   ]
  },
  {
   "cell_type": "code",
   "execution_count": 48,
   "metadata": {},
   "outputs": [
    {
     "data": {
      "text/plain": [
       "(array([[-0.33452972]]), array([0.5]))"
      ]
     },
     "execution_count": 48,
     "metadata": {},
     "output_type": "execute_result"
    }
   ],
   "source": [
    "(\n",
    "    function_emulator_model.tranformation_layers[0].weights,\n",
    "    function_emulator_model.tranformation_layers[0].bias,\n",
    ")"
   ]
  },
  {
   "cell_type": "code",
   "execution_count": 49,
   "metadata": {},
   "outputs": [],
   "source": [
    "training_manager = Model(\n",
    "    FFN=function_emulator_model,\n",
    "    data_set=(X_data, Y_data)\n",
    ")"
   ]
  },
  {
   "cell_type": "code",
   "execution_count": 50,
   "metadata": {},
   "outputs": [
    {
     "data": {
      "text/plain": [
       "2849.3752604979236"
      ]
     },
     "execution_count": 50,
     "metadata": {},
     "output_type": "execute_result"
    }
   ],
   "source": [
    "training_manager.train_and_evaluate(\n",
    "    learning_rate=0.0001,\n",
    "    epochs=10,\n",
    "    batch_size=50\n",
    ")"
   ]
  },
  {
   "cell_type": "code",
   "execution_count": 51,
   "metadata": {},
   "outputs": [
    {
     "data": {
      "text/plain": [
       "(array([[1.29304125]]),\n",
       " array([11.45175091]),\n",
       " array([[2.14321746]]),\n",
       " array([-51.47822236]))"
      ]
     },
     "execution_count": 51,
     "metadata": {},
     "output_type": "execute_result"
    }
   ],
   "source": [
    "(\n",
    "    function_emulator_model.tranformation_layers[0].weights,\n",
    "    function_emulator_model.tranformation_layers[0].bias,\n",
    "    function_emulator_model.tranformation_layers[1].weights,\n",
    "    function_emulator_model.tranformation_layers[1].bias,\n",
    ")"
   ]
  },
  {
   "cell_type": "code",
   "execution_count": 52,
   "metadata": {},
   "outputs": [
    {
     "name": "stdout",
     "output_type": "stream",
     "text": [
      "For the input -0.8135 the network predicted -29.1891 and actual value was 3.3730 giving a cost of 1060.2882\n",
      "For the input -0.7973 the network predicted -29.1441 and actual value was 3.4054 giving a cost of 1059.4733\n",
      "For the input -0.1669 the network predicted -27.3971 and actual value was 4.6663 giving a cost of 1028.0572\n",
      "For the input 0.2831 the network predicted -26.1502 and actual value was 5.5661 giving a cost of 1005.9251\n",
      "For the input 0.7605 the network predicted -24.8272 and actual value was 6.5209 giving a cost of 982.7036\n",
      "For the input -0.5839 the network predicted -28.5528 and actual value was 3.8322 giving a cost of 1048.7863\n",
      "For the input -0.4445 the network predicted -28.1665 and actual value was 4.1110 giving a cost of 1041.8343\n",
      "For the input -0.1829 the network predicted -27.4416 and actual value was 4.6341 giving a cost of 1028.8516\n",
      "For the input 0.9026 the network predicted -24.4332 and actual value was 6.8053 giving a cost of 975.8413\n",
      "For the input 0.2418 the network predicted -26.2646 and actual value was 5.4835 giving a cost of 1007.9462\n"
     ]
    }
   ],
   "source": [
    "for _ in range(10):\n",
    "    x = uniform(-1, 1)\n",
    "    y = linear_function(x)\n",
    "    p, c = training_manager.FFN.foreward_propagate(\n",
    "        np.array([x,]), np.array([y,])\n",
    "    )\n",
    "    print(f\"For the input {x:.4f} the network predicted {p[0]:.4f} and actual value was {y:.4f} giving a cost of {c:.4f}\")"
   ]
  },
  {
   "cell_type": "code",
   "execution_count": null,
   "metadata": {},
   "outputs": [],
   "source": []
  }
 ],
 "metadata": {
  "kernelspec": {
   "display_name": "Python 3",
   "language": "python",
   "name": "python3"
  },
  "language_info": {
   "codemirror_mode": {
    "name": "ipython",
    "version": 3
   },
   "file_extension": ".py",
   "mimetype": "text/x-python",
   "name": "python",
   "nbconvert_exporter": "python",
   "pygments_lexer": "ipython3",
   "version": "3.11.7"
  }
 },
 "nbformat": 4,
 "nbformat_minor": 2
}
