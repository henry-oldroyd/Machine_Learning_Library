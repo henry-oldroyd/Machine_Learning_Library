{
 "cells": [
  {
   "cell_type": "code",
   "execution_count": 1,
   "metadata": {},
   "outputs": [],
   "source": [
    "from loss_functions import *\n",
    "from ml_exceptions import ObjectNotCompiledEror, ObjectCompiliationError"
   ]
  },
  {
   "cell_type": "code",
   "execution_count": 2,
   "metadata": {},
   "outputs": [],
   "source": [
    "MC_MSE = MC_MSE()"
   ]
  },
  {
   "cell_type": "code",
   "execution_count": 3,
   "metadata": {},
   "outputs": [],
   "source": [
    "try:\n",
    "    MC_MSE.compute_loss(None, None)\n",
    "except ObjectNotCompiledEror:\n",
    "    pass"
   ]
  },
  {
   "cell_type": "code",
   "execution_count": 4,
   "metadata": {},
   "outputs": [],
   "source": [
    "try:\n",
    "    MC_MSE.compile()\n",
    "except ObjectCompiliationError:\n",
    "    pass"
   ]
  },
  {
   "cell_type": "code",
   "execution_count": 5,
   "metadata": {},
   "outputs": [],
   "source": [
    "MC_MSE_batch_size = 10\n",
    "MC_MSE_vector_size = 5"
   ]
  },
  {
   "cell_type": "code",
   "execution_count": 6,
   "metadata": {},
   "outputs": [
    {
     "data": {
      "text/plain": [
       "<loss_functions.MC_MSE at 0x1adc87e1190>"
      ]
     },
     "execution_count": 6,
     "metadata": {},
     "output_type": "execute_result"
    }
   ],
   "source": [
    "MC_MSE\\\n",
    "    .set_batch_size(MC_MSE_batch_size)\\\n",
    "    .set_vector_size(MC_MSE_vector_size)\\\n",
    "    .compile()"
   ]
  },
  {
   "cell_type": "code",
   "execution_count": 7,
   "metadata": {},
   "outputs": [
    {
     "data": {
      "text/plain": [
       "(array([[-1.20536634, -3.75892718,  0.27993731,  4.95846832, -0.69614271,\n",
       "         -3.81538403,  2.65198536, -3.76851471,  0.89203593,  0.59563047],\n",
       "        [ 0.40255126, -0.41214259,  0.1344483 , -4.05928924,  0.15713677,\n",
       "         -4.33739095,  4.54531003,  4.33895372,  2.7406587 , -3.37214945],\n",
       "        [-3.72507613, -1.17560386, -4.82266297,  2.19122439,  1.28967707,\n",
       "         -2.60936015, -1.39147829, -2.05633822, -3.81059671,  4.89495525],\n",
       "        [-2.76236443,  3.34193258, -1.16278039,  3.76701039, -0.48354474,\n",
       "          0.67102552, -2.5045858 ,  4.01157828, -4.20947247, -0.01114582],\n",
       "        [-2.60689623,  2.84704769,  1.08233953, -3.52431091, -2.30344579,\n",
       "         -2.68015324,  3.1156936 , -3.86337001, -3.89482438,  1.8603491 ]]),\n",
       " array([[ 4.8608049 , -0.27069931,  3.55830807, -2.74981564,  3.49715369,\n",
       "         -0.26918137, -4.98348954, -3.87898852, -0.21046794, -1.08867773],\n",
       "        [-3.84758114,  2.53771787,  2.04284433, -4.26134236,  4.08629939,\n",
       "         -3.89601724, -0.67458639,  2.15676851,  4.99262585, -0.28330872],\n",
       "        [ 0.4804524 , -1.79421923,  2.03501175, -3.90360426,  3.8107202 ,\n",
       "         -1.91994516, -3.04818978,  4.46555605, -1.1576417 , -0.83972161],\n",
       "        [-4.97566123, -1.01521378, -3.14439004,  1.14286082,  0.20031063,\n",
       "         -0.0364418 , -3.49677084, -1.15156144,  4.08952208, -4.49751396],\n",
       "        [ 0.41223533, -2.90588832,  4.82530791,  4.75452306, -3.0730247 ,\n",
       "          4.78069777, -0.40039537, -0.20322305, -0.43943744, -2.89861888]]))"
      ]
     },
     "execution_count": 7,
     "metadata": {},
     "output_type": "execute_result"
    }
   ],
   "source": [
    "(\n",
    "    (Y := np.random.uniform(-5, 5, (MC_MSE_vector_size, MC_MSE_batch_size))),\n",
    "    (P := np.random.uniform(-5, 5, (MC_MSE_vector_size, MC_MSE_batch_size)))\n",
    ")\n"
   ]
  },
  {
   "cell_type": "code",
   "execution_count": 8,
   "metadata": {},
   "outputs": [
    {
     "data": {
      "text/plain": [
       "17.84619181953761"
      ]
     },
     "execution_count": 8,
     "metadata": {},
     "output_type": "execute_result"
    }
   ],
   "source": [
    "MC_MSE.compute_loss(P, Y)"
   ]
  },
  {
   "cell_type": "code",
   "execution_count": 9,
   "metadata": {},
   "outputs": [
    {
     "data": {
      "text/plain": [
       "array([[ 0.24264685,  0.13952911,  0.13113483, -0.30833136,  0.16773186,\n",
       "         0.14184811, -0.305419  , -0.00441895, -0.04410016, -0.06737233],\n",
       "       [-0.1700053 ,  0.11799442,  0.07633584, -0.00808213,  0.15716651,\n",
       "         0.01765495, -0.20879586, -0.08728741,  0.09007869,  0.12355363],\n",
       "       [ 0.16822114, -0.02474461,  0.27430699, -0.24379315,  0.10084173,\n",
       "         0.0275766 , -0.06626846,  0.26087577,  0.1061182 , -0.22938707],\n",
       "       [-0.08853187, -0.17428585, -0.07926439, -0.10496598,  0.02735421,\n",
       "        -0.02829869, -0.0396874 , -0.20652559,  0.33195978, -0.17945473],\n",
       "       [ 0.12076526, -0.23011744,  0.14971874,  0.33115336, -0.03078316,\n",
       "         0.29843404, -0.14064356,  0.14640588,  0.13821548, -0.19035872]])"
      ]
     },
     "execution_count": 9,
     "metadata": {},
     "output_type": "execute_result"
    }
   ],
   "source": [
    "MC_MSE.compute_loss_gradient()"
   ]
  },
  {
   "cell_type": "code",
   "execution_count": 10,
   "metadata": {},
   "outputs": [],
   "source": [
    "try:\n",
    "    MC_MSE\\\n",
    "        .set_batch_size(10)\\\n",
    "        .compute_loss_gradient()\n",
    "except ObjectNotCompiledEror:\n",
    "    pass"
   ]
  },
  {
   "cell_type": "code",
   "execution_count": 11,
   "metadata": {},
   "outputs": [
    {
     "data": {
      "text/plain": [
       "array([[ 0.24264685,  0.13952911,  0.13113483, -0.30833136,  0.16773186,\n",
       "         0.14184811, -0.305419  , -0.00441895, -0.04410016, -0.06737233],\n",
       "       [-0.1700053 ,  0.11799442,  0.07633584, -0.00808213,  0.15716651,\n",
       "         0.01765495, -0.20879586, -0.08728741,  0.09007869,  0.12355363],\n",
       "       [ 0.16822114, -0.02474461,  0.27430699, -0.24379315,  0.10084173,\n",
       "         0.0275766 , -0.06626846,  0.26087577,  0.1061182 , -0.22938707],\n",
       "       [-0.08853187, -0.17428585, -0.07926439, -0.10496598,  0.02735421,\n",
       "        -0.02829869, -0.0396874 , -0.20652559,  0.33195978, -0.17945473],\n",
       "       [ 0.12076526, -0.23011744,  0.14971874,  0.33115336, -0.03078316,\n",
       "         0.29843404, -0.14064356,  0.14640588,  0.13821548, -0.19035872]])"
      ]
     },
     "execution_count": 11,
     "metadata": {},
     "output_type": "execute_result"
    }
   ],
   "source": [
    "MC_MSE\\\n",
    "    .set_batch_size(MC_MSE_batch_size)\\\n",
    "    .compile()\\\n",
    "    .compute_loss_gradient()\n"
   ]
  },
  {
   "cell_type": "code",
   "execution_count": 12,
   "metadata": {},
   "outputs": [
    {
     "name": "stdout",
     "output_type": "stream",
     "text": [
      "1.0\n"
     ]
    }
   ],
   "source": [
    "loss = MC_MSE.compute_loss(\n",
    "    P=np.zeros((MC_MSE_vector_size, MC_MSE_batch_size)),\n",
    "    Y=np.ones((MC_MSE_vector_size, MC_MSE_batch_size))\n",
    ")\n",
    "print(loss)\n",
    "assert round(loss, 12) == 1"
   ]
  }
 ],
 "metadata": {
  "kernelspec": {
   "display_name": "Python 3",
   "language": "python",
   "name": "python3"
  },
  "language_info": {
   "codemirror_mode": {
    "name": "ipython",
    "version": 3
   },
   "file_extension": ".py",
   "mimetype": "text/x-python",
   "name": "python",
   "nbconvert_exporter": "python",
   "pygments_lexer": "ipython3",
   "version": "3.11.7"
  }
 },
 "nbformat": 4,
 "nbformat_minor": 2
}
