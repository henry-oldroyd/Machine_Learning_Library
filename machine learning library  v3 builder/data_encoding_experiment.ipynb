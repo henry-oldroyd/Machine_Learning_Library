{
 "cells": [
  {
   "cell_type": "code",
   "execution_count": 1,
   "metadata": {},
   "outputs": [],
   "source": [
    "from data_encoding import *\n",
    "from math import sin, cos"
   ]
  },
  {
   "cell_type": "code",
   "execution_count": 2,
   "metadata": {},
   "outputs": [],
   "source": [
    "scalar_encoding = Scalar_Encoding(\n",
    "    scalar_range=[-5, 5],\n",
    "    num_neurons=5\n",
    ")"
   ]
  },
  {
   "cell_type": "code",
   "execution_count": 3,
   "metadata": {},
   "outputs": [
    {
     "data": {
      "text/plain": [
       "array([[1. , 0. , 0. , 0. , 0. ],\n",
       "       [1. , 1. , 0.5, 0. , 0. ],\n",
       "       [1. , 1. , 1. , 0.5, 0. ]])"
      ]
     },
     "execution_count": 3,
     "metadata": {},
     "output_type": "execute_result"
    }
   ],
   "source": [
    "raw_items = [-3, 0, 2]\n",
    "encoded_items = scalar_encoding.encode_dataset(raw_items)\n",
    "encoded_items"
   ]
  },
  {
   "cell_type": "code",
   "execution_count": 4,
   "metadata": {},
   "outputs": [
    {
     "data": {
      "text/plain": [
       "[-3.0, 0.0, 2.0]"
      ]
     },
     "execution_count": 4,
     "metadata": {},
     "output_type": "execute_result"
    }
   ],
   "source": [
    "scalar_encoding.decode_dataset(encoded_items)"
   ]
  },
  {
   "cell_type": "code",
   "execution_count": 5,
   "metadata": {},
   "outputs": [],
   "source": [
    "one_hot_encoding = One_Hot_Encoding(\n",
    "    num_catagories=4\n",
    ")"
   ]
  },
  {
   "cell_type": "code",
   "execution_count": 6,
   "metadata": {},
   "outputs": [
    {
     "data": {
      "text/plain": [
       "array([[1., 0., 0., 0.],\n",
       "       [0., 1., 0., 0.],\n",
       "       [0., 0., 1., 0.],\n",
       "       [0., 0., 0., 1.]])"
      ]
     },
     "execution_count": 6,
     "metadata": {},
     "output_type": "execute_result"
    }
   ],
   "source": [
    "raw_items = [0, 1, 2, 3]\n",
    "encoded_items = one_hot_encoding.encode_dataset(raw_items)\n",
    "encoded_items"
   ]
  },
  {
   "cell_type": "code",
   "execution_count": 7,
   "metadata": {},
   "outputs": [
    {
     "data": {
      "text/plain": [
       "[0, 1, 2, 3]"
      ]
     },
     "execution_count": 7,
     "metadata": {},
     "output_type": "execute_result"
    }
   ],
   "source": [
    "one_hot_encoding.decode_dataset(encoded_items)"
   ]
  },
  {
   "cell_type": "code",
   "execution_count": 8,
   "metadata": {},
   "outputs": [],
   "source": [
    "coordinate_encoder = Coordinate_Features_2d_Encoder(\n",
    "    num_forier_features=9,\n",
    "    num_taylor_features=6\n",
    ")\n"
   ]
  },
  {
   "cell_type": "code",
   "execution_count": 9,
   "metadata": {},
   "outputs": [],
   "source": [
    "raw_items = [\n",
    "    [1, 1],\n",
    "    [-5, 8],\n",
    "    [3, 6]\n",
    "]\n",
    "\n",
    "encoded_items = coordinate_encoder.encode_dataset(raw_items)"
   ]
  },
  {
   "cell_type": "code",
   "execution_count": 10,
   "metadata": {},
   "outputs": [
    {
     "name": "stdout",
     "output_type": "stream",
     "text": [
      "True\n",
      "True\n",
      "True\n"
     ]
    }
   ],
   "source": [
    "for (x, y), encoded in zip(raw_items, encoded_items):\n",
    "    expected = [\n",
    "        1,\n",
    "        x,\n",
    "        y,\n",
    "        x**2,\n",
    "        x*y,\n",
    "        y**2,\n",
    "        x**3,\n",
    "        sin(x),\n",
    "        sin(y),\n",
    "        cos(x),\n",
    "        cos(y),\n",
    "        sin(2*x),\n",
    "        sin(2*y),\n",
    "        cos(2*x),\n",
    "        cos(2*y),\n",
    "        sin(3*x)\n",
    "    ]\n",
    "    expected = [round(float(e), 8) for e in expected]\n",
    "    encoded = [round(float(e), 8) for e in encoded]\n",
    "\n",
    "    # print(\"expected\")\n",
    "    # print(expected)\n",
    "    # print(\"actual\")\n",
    "    # print(encoded)\n",
    "    # print(\"equivolent\")\n",
    "    print(expected == encoded)"
   ]
  }
 ],
 "metadata": {
  "kernelspec": {
   "display_name": "Python 3",
   "language": "python",
   "name": "python3"
  },
  "language_info": {
   "codemirror_mode": {
    "name": "ipython",
    "version": 3
   },
   "file_extension": ".py",
   "mimetype": "text/x-python",
   "name": "python",
   "nbconvert_exporter": "python",
   "pygments_lexer": "ipython3",
   "version": "3.11.7"
  }
 },
 "nbformat": 4,
 "nbformat_minor": 2
}
