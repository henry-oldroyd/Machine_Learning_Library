{
 "cells": [
  {
   "cell_type": "code",
   "execution_count": 1,
   "metadata": {},
   "outputs": [],
   "source": [
    "from model import *\n",
    "from neural_network import *\n",
    "from layers import *\n",
    "from data_encoding import *\n",
    "from loss_functions import *\n",
    "from activation_functions import *\n",
    "\n",
    "from random import uniform"
   ]
  },
  {
   "cell_type": "code",
   "execution_count": 2,
   "metadata": {},
   "outputs": [],
   "source": [
    "def generate_random_points(num_points = 10_000):\n",
    "    for _ in range(num_points):\n",
    "        yield (uniform(-1, 1), uniform(-1, 1))\n",
    "\n",
    "def ring_factory(c1, c2, a, b):\n",
    "    LB = a**2\n",
    "    UB = b**2\n",
    "    def ring(x, y):\n",
    "        return LB < ((x-c1)**2 + (y-c2)**2) < UB\n",
    "    return ring\n",
    "\n",
    "def quadrants_factory(p1, p2):\n",
    "    def quadrants(x, y):\n",
    "        return (p1 > x) ^ (p2 > y)\n",
    "    return quadrants"
   ]
  },
  {
   "cell_type": "code",
   "execution_count": 3,
   "metadata": {},
   "outputs": [],
   "source": [
    "ring = ring_factory(0, 0, 1/4, 3/4)\n",
    "quadrants = quadrants_factory(0, 0)"
   ]
  },
  {
   "cell_type": "code",
   "execution_count": 4,
   "metadata": {},
   "outputs": [],
   "source": [
    "def create_ring_dataset(data_points=10_000):\n",
    "    X = []\n",
    "    Y = []\n",
    "\n",
    "    for x1, x2 in generate_random_points(data_points):\n",
    "        y = 1.0 if ring(x1, x2) else -1.0\n",
    "        X.append([x1, x2])\n",
    "        Y.append(y)\n",
    "\n",
    "    # return [np.array(X), np.array(Y)]\n",
    "    return [X, Y]"
   ]
  },
  {
   "cell_type": "code",
   "execution_count": 5,
   "metadata": {},
   "outputs": [],
   "source": [
    "def create_quadrants_dataset(data_points=10_000):\n",
    "    X = []\n",
    "    Y = []\n",
    "\n",
    "    for x1, x2 in generate_random_points(data_points):\n",
    "        y = 1.0 if ring(x1, x2) else -1.0\n",
    "        X.append([x1, x2])\n",
    "        Y.append(y)\n",
    "\n",
    "    # return [np.array(X), np.array(Y)]\n",
    "    return [X, Y]"
   ]
  },
  {
   "cell_type": "code",
   "execution_count": 6,
   "metadata": {},
   "outputs": [],
   "source": [
    "ring_data_set = create_ring_dataset(10**5)\n",
    "quadrants_data_set = create_quadrants_dataset(10**5)"
   ]
  },
  {
   "cell_type": "code",
   "execution_count": 7,
   "metadata": {},
   "outputs": [],
   "source": [
    "# neural_network = Neural_Network(\n",
    "#     num_input_neurons=10,\n",
    "#     loss_function=MC_MSE(),\n",
    "#     batch_size=50,\n",
    "#     learning_rate=10**-2,\n",
    "#     layers=[\n",
    "#         Neural_Layer(10, RELU()),\n",
    "#         Neural_Layer(10, RELU()),\n",
    "#         Neural_Layer(1, TANH())\n",
    "#     ]\n",
    "# )\n",
    "# Y_encoding = None"
   ]
  },
  {
   "cell_type": "code",
   "execution_count": 8,
   "metadata": {},
   "outputs": [],
   "source": [
    "# neural_network = Neural_Network(\n",
    "#     num_input_neurons=10,\n",
    "#     loss_function=MC_MSE(),\n",
    "#     batch_size=50,\n",
    "#     learning_rate=10**-2,\n",
    "#     layers=[\n",
    "#         Neural_Layer(10, TANH()),\n",
    "#         Neural_Layer(10, TANH()),\n",
    "#         Neural_Layer(1, TANH())\n",
    "#     ]\n",
    "# )\n",
    "# Y_encoding = None"
   ]
  },
  {
   "cell_type": "code",
   "execution_count": 9,
   "metadata": {},
   "outputs": [],
   "source": [
    "neural_network = Neural_Network(\n",
    "    num_input_neurons=10,\n",
    "    loss_function=MC_MSE(),\n",
    "    batch_size=50,\n",
    "    learning_rate=10**-3,\n",
    "    layers=[\n",
    "        Neural_Layer(10, RELU()),\n",
    "        Neural_Layer(10, RELU()),\n",
    "        Neural_Layer(5, Sigmoid())\n",
    "    ]\n",
    ")\n",
    "Y_encoding = Scalar_Encoding([-1.0, 1.0], 5)"
   ]
  },
  {
   "cell_type": "code",
   "execution_count": 10,
   "metadata": {},
   "outputs": [
    {
     "data": {
      "text/plain": [
       "<neural_network.Neural_Network at 0x210f8060ad0>"
      ]
     },
     "execution_count": 10,
     "metadata": {},
     "output_type": "execute_result"
    }
   ],
   "source": [
    "neural_network.set_full_validation(False)\n",
    "neural_network.compile()"
   ]
  },
  {
   "cell_type": "code",
   "execution_count": 11,
   "metadata": {},
   "outputs": [],
   "source": [
    "X_encoding = Coordinate_Features_2d_Encoder(5, 5)"
   ]
  },
  {
   "cell_type": "code",
   "execution_count": 12,
   "metadata": {},
   "outputs": [],
   "source": [
    "ml_model = ML_Model(\n",
    "    neural_network=neural_network,\n",
    "    whole_dataset_raw=ring_data_set,\n",
    "    X_encoding=X_encoding,\n",
    "    Y_encoding=Y_encoding\n",
    ")"
   ]
  },
  {
   "cell_type": "code",
   "execution_count": 13,
   "metadata": {},
   "outputs": [
    {
     "data": {
      "text/plain": [
       "0.28662816870776475"
      ]
     },
     "execution_count": 13,
     "metadata": {},
     "output_type": "execute_result"
    }
   ],
   "source": [
    "ml_model.test()"
   ]
  },
  {
   "cell_type": "code",
   "execution_count": 14,
   "metadata": {},
   "outputs": [
    {
     "data": {
      "text/plain": [
       "4"
      ]
     },
     "execution_count": 14,
     "metadata": {},
     "output_type": "execute_result"
    }
   ],
   "source": [
    "epochs, training_reports = ml_model.train(100)\n",
    "epochs"
   ]
  },
  {
   "cell_type": "code",
   "execution_count": 15,
   "metadata": {},
   "outputs": [
    {
     "data": {
      "text/plain": [
       "[0.285451134070557,\n",
       " 0.28533764464989825,\n",
       " 0.2852446837520489,\n",
       " 0.2852402662344343,\n",
       " 0.2852342464433279]"
      ]
     },
     "execution_count": 15,
     "metadata": {},
     "output_type": "execute_result"
    }
   ],
   "source": [
    "training_reports[:5]"
   ]
  },
  {
   "cell_type": "code",
   "execution_count": 16,
   "metadata": {},
   "outputs": [
    {
     "data": {
      "text/plain": [
       "[0.2852402662344343,\n",
       " 0.2852342464433279,\n",
       " 0.2852212132876695,\n",
       " 0.2852029138154149,\n",
       " 0.2852033980150649]"
      ]
     },
     "execution_count": 16,
     "metadata": {},
     "output_type": "execute_result"
    }
   ],
   "source": [
    "training_reports[-5:]"
   ]
  },
  {
   "cell_type": "code",
   "execution_count": 17,
   "metadata": {},
   "outputs": [
    {
     "data": {
      "text/plain": [
       "0.2863456155492276"
      ]
     },
     "execution_count": 17,
     "metadata": {},
     "output_type": "execute_result"
    }
   ],
   "source": [
    "ml_model.test()"
   ]
  },
  {
   "cell_type": "code",
   "execution_count": 18,
   "metadata": {},
   "outputs": [],
   "source": [
    "X, Y = create_ring_dataset(10)\n",
    "P = ml_model.predict(X)"
   ]
  },
  {
   "cell_type": "code",
   "execution_count": 19,
   "metadata": {},
   "outputs": [
    {
     "data": {
      "text/plain": [
       "[[0.2665296239192494, 0.7230703751603824],\n",
       " [-0.2509945058937426, 0.6780035032710814],\n",
       " [-0.6284073466940809, -0.5911866437436237],\n",
       " [0.2648635846056715, -0.4538334498685048],\n",
       " [-0.6101284367769166, 0.19956249611675525],\n",
       " [-0.5661862953333086, 0.4268991232995314],\n",
       " [0.4345057297129973, 0.5154623131172629],\n",
       " [0.4199524763644118, 0.6591956505795618],\n",
       " [0.5999000539007515, 0.31635739156619835],\n",
       " [0.026209104501713876, 0.7237400148017445]]"
      ]
     },
     "execution_count": 19,
     "metadata": {},
     "output_type": "execute_result"
    }
   ],
   "source": [
    "X"
   ]
  },
  {
   "cell_type": "code",
   "execution_count": 20,
   "metadata": {},
   "outputs": [
    {
     "data": {
      "text/plain": [
       "[-1.0, 1.0, -1.0, 1.0, 1.0, 1.0, 1.0, -1.0, 1.0, 1.0]"
      ]
     },
     "execution_count": 20,
     "metadata": {},
     "output_type": "execute_result"
    }
   ],
   "source": [
    "Y"
   ]
  },
  {
   "cell_type": "code",
   "execution_count": 21,
   "metadata": {},
   "outputs": [
    {
     "data": {
      "text/plain": [
       "[0.01857638131603001,\n",
       " 0.733616704125764,\n",
       " 0.04050103507655711,\n",
       " 0.9178282392353241,\n",
       " 0.5518245577831249]"
      ]
     },
     "execution_count": 21,
     "metadata": {},
     "output_type": "execute_result"
    }
   ],
   "source": [
    "P"
   ]
  }
 ],
 "metadata": {
  "kernelspec": {
   "display_name": "Python 3",
   "language": "python",
   "name": "python3"
  },
  "language_info": {
   "codemirror_mode": {
    "name": "ipython",
    "version": 3
   },
   "file_extension": ".py",
   "mimetype": "text/x-python",
   "name": "python",
   "nbconvert_exporter": "python",
   "pygments_lexer": "ipython3",
   "version": "3.11.7"
  }
 },
 "nbformat": 4,
 "nbformat_minor": 2
}
