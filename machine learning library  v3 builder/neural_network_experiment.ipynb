{
 "cells": [
  {
   "cell_type": "markdown",
   "metadata": {},
   "source": [
    "# This notebook needs fixing. The loss calculations don't seem accurate at all. They are low before starting training and the test vs train losses are very different\n",
    "Could is be that some kind of correction for batch size is happening in one case and not the other"
   ]
  },
  {
   "cell_type": "code",
   "execution_count": 1,
   "metadata": {},
   "outputs": [],
   "source": [
    "from neural_network import *\n",
    "from activation_functions import *\n",
    "from loss_functions import *\n",
    "from layers import *"
   ]
  },
  {
   "cell_type": "markdown",
   "metadata": {},
   "source": [
    "First I will get it working with 1 input neuron and one output neuron"
   ]
  },
  {
   "cell_type": "code",
   "execution_count": 2,
   "metadata": {},
   "outputs": [],
   "source": [
    "traning_cycles_one_neuron = 100_000\n",
    "training_reports_one_neuron = 100\n",
    "learning_rate_one_neuron = 10**-2\n",
    "num_input_neurons_one_neuron = 1\n",
    "batch_size_one_neuron = 50\n",
    "test_data_items_one_neuron = 10_000\n",
    "x_range_one_neuron = [-1.0, 1.0]"
   ]
  },
  {
   "cell_type": "code",
   "execution_count": 3,
   "metadata": {},
   "outputs": [],
   "source": [
    "def network_factory_one_neuron():\n",
    "    return Neural_Network(\n",
    "        num_input_neurons = num_input_neurons_one_neuron,\n",
    "        loss_function = MC_MSE(),\n",
    "        batch_size = batch_size_one_neuron,\n",
    "        learning_rate = learning_rate_one_neuron,\n",
    "        layers = [\n",
    "            Neural_Layer(1, Identity_Function()),\n",
    "        ]\n",
    "    )\\\n",
    "        .set_full_validation(False)\\\n",
    "        .compile()"
   ]
  },
  {
   "cell_type": "code",
   "execution_count": 4,
   "metadata": {},
   "outputs": [],
   "source": [
    "target_network_one_neuron = network_factory_one_neuron()\n",
    "training_network_one_neuron = network_factory_one_neuron()"
   ]
  },
  {
   "cell_type": "code",
   "execution_count": 5,
   "metadata": {},
   "outputs": [],
   "source": [
    "# heart surgery so provate attributes accessed\n",
    "target_network_one_neuron._layers[0]._weights_m = np.array([[3.0]])\n",
    "target_network_one_neuron._layers[0]._bias_v = np.array([5.0])\n"
   ]
  },
  {
   "cell_type": "code",
   "execution_count": 6,
   "metadata": {},
   "outputs": [],
   "source": [
    "def run_test_one_neuron(echo=True):\n",
    "    X_data = np.random.uniform(\n",
    "        low = x_range_one_neuron[0],\n",
    "        high = x_range_one_neuron[1],\n",
    "        size = (num_input_neurons_one_neuron, test_data_items_one_neuron)\n",
    "    )\n",
    "    if echo: print(\"Making predictions\")\n",
    "    Y_data = target_network_one_neuron.make_predicitons(X_data)\n",
    "\n",
    "\n",
    "    if echo: print(\"Evaluating test loss\")\n",
    "    loss = training_network_one_neuron.evaluate_model_on_test_data(\n",
    "        X_test_data=X_data,\n",
    "        Y_test_data=Y_data,\n",
    "    )\n",
    "    \n",
    "    if echo: print({\"loss\": loss})\n",
    "    if echo: training_network_one_neuron.get_layers()[0].print_parameters()\n",
    "    return loss"
   ]
  },
  {
   "cell_type": "code",
   "execution_count": 7,
   "metadata": {},
   "outputs": [
    {
     "name": "stdout",
     "output_type": "stream",
     "text": [
      "Weights (1, 1):   [[3.]]\n",
      "Bias (1,):   [5.]\n"
     ]
    }
   ],
   "source": [
    "# target parameters to learn\n",
    "target_network_one_neuron.get_layers()[0].print_parameters()"
   ]
  },
  {
   "cell_type": "code",
   "execution_count": 8,
   "metadata": {},
   "outputs": [
    {
     "name": "stdout",
     "output_type": "stream",
     "text": [
      "Weights (1, 1):   [[0.25356534]]\n",
      "Bias (1,):   [0.1]\n"
     ]
    }
   ],
   "source": [
    "training_network_one_neuron.get_layers()[0].print_parameters()"
   ]
  },
  {
   "cell_type": "code",
   "execution_count": 9,
   "metadata": {},
   "outputs": [
    {
     "name": "stdout",
     "output_type": "stream",
     "text": [
      "Making predictions\n",
      "Evaluating test loss\n",
      "{'loss': 26.767345641520517}\n",
      "Weights (1, 1):   [[0.25356534]]\n",
      "Bias (1,):   [0.1]\n"
     ]
    }
   ],
   "source": [
    "loss = run_test_one_neuron()\n"
   ]
  },
  {
   "cell_type": "code",
   "execution_count": 10,
   "metadata": {},
   "outputs": [],
   "source": [
    "def train_model_one_neuron():\n",
    "    X_data = np.random.uniform(\n",
    "        low = x_range_one_neuron[0],\n",
    "        high = x_range_one_neuron[1],\n",
    "        size = (num_input_neurons_one_neuron, batch_size_one_neuron)\n",
    "    )\n",
    "    Y_data = target_network_one_neuron.make_predicitons(X_data)\n",
    "\n",
    "    loss = training_network_one_neuron.train_model_on_minibatch(\n",
    "        X_train_data=X_data,\n",
    "        Y_train_data=Y_data,\n",
    "    )\n",
    "    return loss, X_data, Y_data"
   ]
  },
  {
   "cell_type": "code",
   "execution_count": 11,
   "metadata": {},
   "outputs": [
    {
     "name": "stdout",
     "output_type": "stream",
     "text": [
      "30.060717741997628\n",
      "[[ 0.2750048   0.20977479  0.54836169  0.70121513 -0.44378931 -0.57306909\n",
      "   0.17386175  0.61134561 -0.68351729 -0.72211697  0.9349859   0.9153632\n",
      "   0.37255358 -0.48529003 -0.60567327  0.29386213  0.01123997  0.79583484\n",
      "   0.99572664 -0.7420547   0.55103454 -0.53413299  0.75296516  0.89759862\n",
      "   0.83762504  0.85560147  0.77797966  0.03559162  0.54702893 -0.40085846\n",
      "   0.97031347  0.16017895  0.26030893 -0.02047356  0.02695048 -0.11536801\n",
      "  -0.71810513  0.1498705   0.22671424  0.03880312  0.18413098 -0.82557459\n",
      "  -0.30096012 -0.86412315  0.74141261 -0.34534715 -0.59018891  0.34631113\n",
      "   0.73133873 -0.52568942]]\n",
      "[[5.82501439 5.62932438 6.64508506 7.1036454  3.66863208 3.28079273\n",
      "  5.52158525 6.83403683 2.94944812 2.83364909 7.80495771 7.74608961\n",
      "  6.11766073 3.54412992 3.18298019 5.8815864  5.03371991 7.38750452\n",
      "  7.98717991 2.77383589 6.65310362 3.39760102 7.25889549 7.69279587\n",
      "  7.51287513 7.56680442 7.33393898 5.10677487 6.64108679 3.79742461\n",
      "  7.91094042 5.48053684 5.78092679 4.93857933 5.08085145 4.65389597\n",
      "  2.8456846  5.44961151 5.68014273 5.11640935 5.55239293 2.52327624\n",
      "  4.09711964 2.40763054 7.22423783 3.96395855 3.22943326 6.03893339\n",
      "  7.1940162  3.42293173]]\n"
     ]
    }
   ],
   "source": [
    "loss, X_data, Y_data = train_model_one_neuron()\n",
    "print(loss)\n",
    "print(X_data)\n",
    "print(Y_data)"
   ]
  },
  {
   "cell_type": "code",
   "execution_count": 12,
   "metadata": {},
   "outputs": [
    {
     "name": "stdout",
     "output_type": "stream",
     "text": [
      "[[0. 0. 0. 0. 0. 0. 0. 0. 0. 0. 0. 0. 0. 0. 0. 0. 0. 0. 0. 0. 0. 0. 0. 0.\n",
      "  0. 0. 0. 0. 0. 0. 0. 0. 0. 0. 0. 0. 0. 0. 0. 0. 0. 0. 0. 0. 0. 0. 0. 0.\n",
      "  0. 0.]]\n"
     ]
    }
   ],
   "source": [
    "# should be all zeros if foweward propagation correct\n",
    "print(3*X_data+5 - Y_data)"
   ]
  },
  {
   "cell_type": "code",
   "execution_count": 13,
   "metadata": {},
   "outputs": [
    {
     "name": "stdout",
     "output_type": "stream",
     "text": [
      "26.198573102318306\n",
      "10.779365196312233\n",
      "4.838290847839083\n",
      "2.1729882510416703\n",
      "0.9772451935192012\n",
      "0.43767900158622186\n",
      "0.1967547642005062\n",
      "0.0883717704870403\n",
      "0.03960339287835831\n",
      "0.017888134098214246\n",
      "0.008036698670816732\n",
      "0.003608325676393908\n",
      "0.0016210922682281194\n",
      "0.0007265603947348371\n",
      "0.0003271447504224621\n",
      "0.00014670729660209132\n",
      "6.605254228048123e-05\n",
      "2.966051423934018e-05\n",
      "1.3328562836862449e-05\n",
      "5.985841315550082e-06\n",
      "2.6901157905420157e-06\n",
      "1.2116133499765828e-06\n",
      "5.42933383022293e-07\n",
      "2.438915015018282e-07\n",
      "1.0973373748490384e-07\n",
      "4.9212090688945636e-08\n",
      "2.2118061433471857e-08\n",
      "9.943442312482498e-09\n",
      "4.465565813481848e-09\n",
      "2.0037293829854075e-09\n",
      "9.008700341488557e-10\n",
      "4.0550568147355735e-10\n",
      "1.8179130330017504e-10\n",
      "8.138139180484622e-11\n",
      "3.6840759403515496e-11\n",
      "1.6508684494499882e-11\n",
      "7.41460660391664e-12\n",
      "3.3120158719446774e-12\n",
      "1.4947432240232903e-12\n",
      "6.739060989752188e-13\n",
      "3.013358769334962e-13\n",
      "1.3530249914166533e-13\n",
      "6.093419371259994e-14\n",
      "2.735870507308818e-14\n",
      "1.2283021220017429e-14\n",
      "5.50422263593039e-15\n",
      "2.4808953808535737e-15\n",
      "1.1139433696034125e-15\n",
      "4.992181509431208e-16\n",
      "2.24671122502316e-16\n",
      "1.0097715762453852e-16\n",
      "4.5286991508675605e-17\n",
      "2.0401596689053262e-17\n",
      "9.116524496002429e-18\n",
      "4.102510137899009e-18\n",
      "1.848699656637446e-18\n",
      "8.290983803462093e-19\n"
     ]
    }
   ],
   "source": [
    "for traning_cycles_num in range(traning_cycles_one_neuron):\n",
    "    try: \n",
    "        loss, _, _ = train_model_one_neuron()\n",
    "    except ParameterChangeZero:\n",
    "        break\n",
    "    \n",
    "    if traning_cycles_num % (traning_cycles_one_neuron // training_reports_one_neuron) == 0:\n",
    "        print(loss)\n"
   ]
  },
  {
   "cell_type": "code",
   "execution_count": 14,
   "metadata": {},
   "outputs": [
    {
     "name": "stdout",
     "output_type": "stream",
     "text": [
      "Making predictions\n",
      "Evaluating test loss\n",
      "{'loss': 4.252906513238618e-19}\n",
      "Weights (1, 1):   [[3.]]\n",
      "Bias (1,):   [5.]\n"
     ]
    },
    {
     "data": {
      "text/plain": [
       "4.252906513238618e-19"
      ]
     },
     "execution_count": 14,
     "metadata": {},
     "output_type": "execute_result"
    }
   ],
   "source": [
    "run_test_one_neuron()"
   ]
  },
  {
   "cell_type": "code",
   "execution_count": 15,
   "metadata": {},
   "outputs": [
    {
     "name": "stdout",
     "output_type": "stream",
     "text": [
      "Weights (1, 1):   [[3.]]\n",
      "Bias (1,):   [5.]\n"
     ]
    }
   ],
   "source": [
    "# target parameters to learn\n",
    "target_network_one_neuron.get_layers()[0].print_parameters()"
   ]
  },
  {
   "cell_type": "code",
   "execution_count": 16,
   "metadata": {},
   "outputs": [],
   "source": [
    "X_data = np.random.uniform(\n",
    "    low = x_range_one_neuron[0],\n",
    "    high = x_range_one_neuron[1],\n",
    "    size = (num_input_neurons_one_neuron, batch_size_one_neuron)\n",
    ")\n",
    "Y_data = target_network_one_neuron.make_predicitons(X_data)"
   ]
  },
  {
   "cell_type": "code",
   "execution_count": 17,
   "metadata": {},
   "outputs": [],
   "source": [
    "assert (3*X_data + 5 == Y_data).all()"
   ]
  },
  {
   "cell_type": "code",
   "execution_count": 18,
   "metadata": {},
   "outputs": [],
   "source": [
    "assert target_network_one_neuron.evaluate_model_on_test_data(X_data, Y_data) < 10**-12"
   ]
  },
  {
   "cell_type": "code",
   "execution_count": 19,
   "metadata": {},
   "outputs": [],
   "source": [
    "loss_test = training_network_one_neuron.evaluate_model_on_test_data(X_data, Y_data)\n",
    "# loss train is on foreward propagation before model parameters are changed\n",
    "loss_train = training_network_one_neuron.train_model_on_minibatch(X_data, Y_data)\n",
    "\n",
    "assert (loss_test == loss_train).all()"
   ]
  },
  {
   "cell_type": "markdown",
   "metadata": {},
   "source": [
    "Next I will test one layer"
   ]
  },
  {
   "cell_type": "code",
   "execution_count": 20,
   "metadata": {},
   "outputs": [],
   "source": [
    "traning_cycles_one_layer = 100_000\n",
    "training_reports_one_layer = 50\n",
    "learning_rate_one_layer = 10**-2\n",
    "num_input_neurons_one_layer = 2\n",
    "num_output_neurons_one_layer = 2\n",
    "batch_size_one_layer = 50\n",
    "test_data_items_one_layer = 10_000\n",
    "x_range_one_layer = [-1.0, 1.0]"
   ]
  },
  {
   "cell_type": "code",
   "execution_count": 21,
   "metadata": {},
   "outputs": [],
   "source": [
    "def network_factory_one_layer():\n",
    "    return Neural_Network(\n",
    "        num_input_neurons = num_input_neurons_one_layer,\n",
    "        loss_function = MC_MSE(),\n",
    "        batch_size = batch_size_one_layer,\n",
    "        learning_rate = learning_rate_one_layer,\n",
    "        layers = [\n",
    "            Neural_Layer(num_output_neurons_one_layer, Identity_Function()),\n",
    "        ]\n",
    "    )\\\n",
    "        .set_full_validation(False)\\\n",
    "        .compile()"
   ]
  },
  {
   "cell_type": "code",
   "execution_count": 22,
   "metadata": {},
   "outputs": [],
   "source": [
    "training_network_one_layer = network_factory_one_layer()\n",
    "target_network_one_layer = network_factory_one_layer()\n",
    "\n",
    "target_network_one_layer._layers[0]._bias_v = np.random.uniform(-1, 1, (num_output_neurons_one_layer,))"
   ]
  },
  {
   "cell_type": "code",
   "execution_count": 23,
   "metadata": {},
   "outputs": [
    {
     "name": "stdout",
     "output_type": "stream",
     "text": [
      "Weights (2, 2):   [[-0.92750534  0.69491069]\n",
      " [-0.71227767 -0.38931715]]\n",
      "Bias (2,):   [0.13019614 0.70450393]\n",
      "Weights (2, 2):   [[-0.01826356  0.85679798]\n",
      " [-0.16273809 -0.47405338]]\n",
      "Bias (2,):   [0.1 0.1]\n"
     ]
    }
   ],
   "source": [
    "target_network_one_layer.get_layers()[0].print_parameters()\n",
    "training_network_one_layer.get_layers()[0].print_parameters()\n",
    "training_network_one_layer._num_trains = 0"
   ]
  },
  {
   "cell_type": "code",
   "execution_count": 24,
   "metadata": {},
   "outputs": [],
   "source": [
    "def run_test_one_layer(echo=False):\n",
    "    X_data = np.random.uniform(\n",
    "        low = x_range_one_layer[0],\n",
    "        high = x_range_one_layer[1],\n",
    "        size = (num_input_neurons_one_layer, test_data_items_one_layer)\n",
    "    )\n",
    "    if echo: print(\"Making predictions\")\n",
    "    Y_data = target_network_one_layer.make_predicitons(X_data)\n",
    "\n",
    "\n",
    "    if echo: print(\"Evaluating test loss\")\n",
    "    loss = training_network_one_layer.evaluate_model_on_test_data(\n",
    "        X_test_data=X_data,\n",
    "        Y_test_data=Y_data,\n",
    "    )\n",
    "\n",
    "    if echo: print({\"loss\": loss})\n",
    "    if echo: training_network_one_layer.get_layers()[0].print_parameters()\n",
    "    return loss\n"
   ]
  },
  {
   "cell_type": "code",
   "execution_count": 25,
   "metadata": {},
   "outputs": [],
   "source": [
    "def train_model_one_layer():\n",
    "    X_data = np.random.uniform(\n",
    "        low = x_range_one_layer[0],\n",
    "        high = x_range_one_layer[1],\n",
    "        size = (num_input_neurons_one_layer, batch_size_one_layer)\n",
    "    )\n",
    "    Y_data = target_network_one_layer.make_predicitons(X_data)\n",
    "\n",
    "    loss = training_network_one_layer.train_model_on_minibatch(\n",
    "        X_train_data=X_data,\n",
    "        Y_train_data=Y_data,\n",
    "    )\n",
    "    training_network_one_layer._num_trains += 1\n",
    "    return loss"
   ]
  },
  {
   "cell_type": "code",
   "execution_count": 26,
   "metadata": {},
   "outputs": [
    {
     "data": {
      "text/plain": [
       "0.3786895663226945"
      ]
     },
     "execution_count": 26,
     "metadata": {},
     "output_type": "execute_result"
    }
   ],
   "source": [
    "run_test_one_layer()"
   ]
  },
  {
   "cell_type": "code",
   "execution_count": 27,
   "metadata": {},
   "outputs": [
    {
     "data": {
      "text/plain": [
       "0.39143219647684246"
      ]
     },
     "execution_count": 27,
     "metadata": {},
     "output_type": "execute_result"
    }
   ],
   "source": [
    "train_model_one_layer()"
   ]
  },
  {
   "cell_type": "code",
   "execution_count": 28,
   "metadata": {},
   "outputs": [
    {
     "data": {
      "text/plain": [
       "0.38079088755606505"
      ]
     },
     "execution_count": 28,
     "metadata": {},
     "output_type": "execute_result"
    }
   ],
   "source": [
    "run_test_one_layer()"
   ]
  },
  {
   "cell_type": "code",
   "execution_count": 29,
   "metadata": {},
   "outputs": [],
   "source": [
    "for _ in range(100):\n",
    "    train_model_one_layer()"
   ]
  },
  {
   "cell_type": "code",
   "execution_count": 30,
   "metadata": {},
   "outputs": [
    {
     "data": {
      "text/plain": [
       "0.36901440445061817"
      ]
     },
     "execution_count": 30,
     "metadata": {},
     "output_type": "execute_result"
    }
   ],
   "source": [
    "run_test_one_layer()"
   ]
  },
  {
   "cell_type": "code",
   "execution_count": 31,
   "metadata": {},
   "outputs": [
    {
     "name": "stdout",
     "output_type": "stream",
     "text": [
      "[102, 0.32731231834508606]\n",
      "[2102, 0.31352543674267386]\n",
      "[4102, 0.16910597169102]\n",
      "[6102, 0.15413160045145835]\n",
      "[8102, 0.15754670626172879]\n",
      "[10102, 0.12945703128810487]\n",
      "[12102, 0.11284145287385236]\n",
      "[14102, 0.0959820981238243]\n",
      "[16102, 0.09058256783681672]\n",
      "[18102, 0.08266506269917041]\n",
      "[20102, 0.07480706033862425]\n",
      "[22102, 0.07150725473020246]\n",
      "[24102, 0.06237804176711332]\n",
      "[26102, 0.06343592391555347]\n",
      "[28102, 0.06049032499987033]\n",
      "[30102, 0.05514927214690456]\n",
      "[32102, 0.053195794811605426]\n",
      "[34102, 0.05053422583387196]\n",
      "[36102, 0.0483516941325697]\n",
      "[38102, 0.04659026244342004]\n",
      "[40102, 0.04593751307277857]\n",
      "[42102, 0.043343020718192404]\n",
      "[44102, 0.042107175081049636]\n",
      "[46102, 0.04051733645403962]\n",
      "[48102, 0.039130750433390975]\n",
      "[50102, 0.038017078336873796]\n",
      "[52102, 0.036344807126439685]\n",
      "[54102, 0.035598237501347954]\n",
      "[56102, 0.03451253850053564]\n",
      "[58102, 0.03349209300286793]\n",
      "[60102, 0.03221830485440144]\n",
      "[62102, 0.031020712987075403]\n",
      "[64102, 0.030041534960413573]\n",
      "[66102, 0.029233881375416406]\n",
      "[68102, 0.02820493571410756]\n",
      "[70102, 0.027133002043128185]\n",
      "[72102, 0.026682697155230656]\n",
      "[74102, 0.025525362999432075]\n",
      "[76102, 0.024621319270280353]\n",
      "[78102, 0.024067260437924412]\n",
      "[80102, 0.02293183127976851]\n",
      "[82102, 0.022294689252181258]\n",
      "[84102, 0.021736117648066138]\n",
      "[86102, 0.020787096170885696]\n",
      "[88102, 0.02040395755295269]\n",
      "[90102, 0.019625990908634615]\n",
      "[92102, 0.019060614730272304]\n",
      "[94102, 0.018417282877117476]\n",
      "[96102, 0.017973659086192983]\n",
      "[98102, 0.017361481735706806]\n",
      "0.017011201022110387\n"
     ]
    }
   ],
   "source": [
    "for traning_cycles_num in range(traning_cycles_one_layer):\n",
    "    try: \n",
    "        loss = train_model_one_layer()\n",
    "    except ParameterChangeZero:\n",
    "        break\n",
    "    \n",
    "    if traning_cycles_num % (traning_cycles_one_layer // training_reports_one_layer) == 0:\n",
    "        print([training_network_one_layer._num_trains, loss])\n",
    "print(loss)"
   ]
  },
  {
   "cell_type": "code",
   "execution_count": 32,
   "metadata": {},
   "outputs": [
    {
     "name": "stdout",
     "output_type": "stream",
     "text": [
      "Current loss and parameters\n",
      "0.01680872415300585\n",
      "target parameters\n",
      "Weights (2, 2):   [[-0.92750534  0.69491069]\n",
      " [-0.71227767 -0.38931715]]\n",
      "Bias (2,):   [0.13019614 0.70450393]\n",
      "learned parameters\n",
      "Weights (2, 2):   [[-0.92452702  0.69844287]\n",
      " [-0.70885559 -0.4000052 ]]\n",
      "Bias (2,):   [0.25973546 0.57493868]\n"
     ]
    }
   ],
   "source": [
    "print(\"Current loss and parameters\")\n",
    "print(run_test_one_layer())\n",
    "print(\"target parameters\")\n",
    "target_network_one_layer.get_layers()[0].print_parameters()\n",
    "print(\"learned parameters\")\n",
    "training_network_one_layer.get_layers()[0].print_parameters()"
   ]
  },
  {
   "cell_type": "code",
   "execution_count": 33,
   "metadata": {},
   "outputs": [
    {
     "data": {
      "text/plain": [
       "<neural_network.Neural_Network at 0x129ff83bc10>"
      ]
     },
     "execution_count": 33,
     "metadata": {},
     "output_type": "execute_result"
    }
   ],
   "source": [
    "training_network_one_layer.reset_parameters()"
   ]
  },
  {
   "cell_type": "code",
   "execution_count": 34,
   "metadata": {},
   "outputs": [
    {
     "data": {
      "text/plain": [
       "0.48773359807943256"
      ]
     },
     "execution_count": 34,
     "metadata": {},
     "output_type": "execute_result"
    }
   ],
   "source": [
    "run_test_one_layer()"
   ]
  },
  {
   "cell_type": "code",
   "execution_count": 35,
   "metadata": {},
   "outputs": [
    {
     "name": "stdout",
     "output_type": "stream",
     "text": [
      "0.5645527091016791\n",
      "0.43756198702601756\n",
      "0.34805890306366793\n",
      "0.2632638113543751\n",
      "0.17583083797532437\n",
      "0.1724361703718088\n",
      "0.12863415052180166\n",
      "0.11742323667934723\n",
      "0.08235847527676063\n",
      "0.08813017455024624\n",
      "0.09080622447624843\n",
      "0.06704945875950856\n",
      "0.06765699725424056\n",
      "0.06264541681573169\n",
      "0.05989796288540204\n",
      "0.05675894007734352\n",
      "0.056631673694254384\n",
      "0.04914671310201478\n",
      "0.04789164715882589\n",
      "0.04493733335710003\n",
      "0.043867375607305865\n",
      "0.04231582940057265\n",
      "0.0410487136760605\n",
      "0.0417395046208438\n",
      "0.03969573308049265\n",
      "0.03800683371827312\n",
      "0.03462868958062354\n",
      "0.03538545556765674\n",
      "0.03391976650241631\n",
      "0.03321096767163956\n",
      "0.03218230977213242\n",
      "0.030965863560060276\n",
      "0.029394031449675305\n",
      "0.02887359573483772\n",
      "0.02870770738719906\n",
      "0.028344148996911435\n",
      "0.026685922848671734\n",
      "0.02590282049762001\n",
      "0.024555485590851554\n",
      "0.02323440342429753\n",
      "0.023400399494145154\n",
      "0.023226303032892394\n",
      "0.021694583893449543\n",
      "0.02113732377362021\n",
      "0.020413756011577293\n",
      "0.019434724794287123\n",
      "0.018914161650902078\n",
      "0.018178403061489653\n",
      "0.017946046656067298\n",
      "0.017299851940080282\n",
      "0.016973529048410565\n"
     ]
    }
   ],
   "source": [
    "for traning_cycles_num in range(traning_cycles_one_layer):\n",
    "    X_data = np.random.uniform(\n",
    "        low = x_range_one_layer[0],\n",
    "        high = x_range_one_layer[1],\n",
    "        size = (num_input_neurons_one_layer, batch_size_one_layer)\n",
    "    )\n",
    "    Y_data = target_network_one_layer.make_predicitons(X_data)\n",
    "\n",
    "    P = training_network_one_layer._layers[0].foreward_propagate(X_data)\n",
    "    loss = training_network_one_layer._loss_function.compute_loss(P, Y_data)\n",
    "    loss_grad = training_network_one_layer._loss_function.compute_loss_gradient()\n",
    "    training_network_one_layer._layers[0].back_propagate(loss_grad)\n",
    "    training_network_one_layer._layers[0].update_parameters(training_network_one_layer._learning_rate)\n",
    "    \n",
    "    if traning_cycles_num % (traning_cycles_one_layer // training_reports_one_layer) == 0:\n",
    "        print(loss)\n",
    "print(loss)"
   ]
  },
  {
   "cell_type": "code",
   "execution_count": 36,
   "metadata": {},
   "outputs": [],
   "source": [
    "traning_cycles_deep = 10_000\n",
    "training_reports_deep = 100\n",
    "learning_rate_deep = float(1)\n",
    "num_input_neurons_deep = 2\n",
    "batch_size_deep = 50\n",
    "test_data_items_deep = 10_000\n",
    "x_range_deep = [-1.0, 1.0]"
   ]
  },
  {
   "cell_type": "code",
   "execution_count": 37,
   "metadata": {},
   "outputs": [],
   "source": [
    "def network_factory_deep():\n",
    "    return Neural_Network(\n",
    "        num_input_neurons = num_input_neurons_deep,\n",
    "        loss_function = MC_MSE(),\n",
    "        batch_size = batch_size_deep,\n",
    "        learning_rate = learning_rate_deep,\n",
    "        layers = [\n",
    "            Neural_Layer(2, RELU()),\n",
    "            Neural_Layer(2, Identity_Function()),\n",
    "        ]\n",
    "    )\\\n",
    "        .set_full_validation(False)\\\n",
    "        .compile()"
   ]
  },
  {
   "cell_type": "code",
   "execution_count": 38,
   "metadata": {},
   "outputs": [],
   "source": [
    "training_network_deep = network_factory_deep()\n",
    "target_network_deep = network_factory_deep()\n",
    "\n",
    "# set target bias to random\n",
    "for i in range(2):\n",
    "    target_network_deep._layers[i]._bias_v = np.random.uniform(-1, 1, (2,))"
   ]
  },
  {
   "cell_type": "code",
   "execution_count": 39,
   "metadata": {},
   "outputs": [],
   "source": [
    "def run_test_deep():\n",
    "    X_data = np.random.uniform(\n",
    "        low = x_range_deep[0],\n",
    "        high = x_range_deep[1],\n",
    "        size = (num_input_neurons_deep, test_data_items_deep)\n",
    "    )\n",
    "    print(\"Making predictions\")\n",
    "    Y_data = target_network_deep.make_predicitons(X_data)\n",
    "\n",
    "\n",
    "    print(\"Evaluating test loss\")\n",
    "    loss = training_network_deep.evaluate_model_on_test_data(\n",
    "        X_test_data=X_data,\n",
    "        Y_test_data=Y_data,\n",
    "    )\n",
    "\n",
    "    print({\"loss\": loss})\n"
   ]
  },
  {
   "cell_type": "code",
   "execution_count": 40,
   "metadata": {},
   "outputs": [],
   "source": [
    "def train_model_deep():\n",
    "    X_data = np.random.uniform(\n",
    "        low = x_range_deep[0],\n",
    "        high = x_range_deep[1],\n",
    "        size = (num_input_neurons_deep, batch_size_deep)\n",
    "    )\n",
    "    Y_data = target_network_deep.make_predicitons(X_data)\n",
    "\n",
    "    loss = training_network_deep.train_model_on_minibatch(\n",
    "        X_train_data=X_data,\n",
    "        Y_train_data=Y_data,\n",
    "    )\n",
    "    return loss"
   ]
  },
  {
   "cell_type": "code",
   "execution_count": 41,
   "metadata": {},
   "outputs": [],
   "source": [
    "def print_parameter_differences_deep():\n",
    "    for target_layer, training_layer in zip(target_network_deep.get_layers(), training_network_deep.get_layers()):\n",
    "        if isinstance(target_layer, Trainable_Layer_Interface):\n",
    "            for key in (\"W\", \"B\"):\n",
    "                print(\n",
    "                    training_layer.get_parameters()[key] - target_layer.get_parameters()[key]\n",
    "                )"
   ]
  },
  {
   "cell_type": "code",
   "execution_count": 42,
   "metadata": {},
   "outputs": [
    {
     "name": "stdout",
     "output_type": "stream",
     "text": [
      "[[0.17869707 0.94759158]\n",
      " [0.94834767 0.39621516]]\n",
      "[-0.27515408  0.80346043]\n",
      "[[ 1.38636122 -0.22483284]\n",
      " [-0.21914304  0.09926087]]\n",
      "[-0.27386357  0.03362043]\n"
     ]
    }
   ],
   "source": [
    "print_parameter_differences_deep()"
   ]
  },
  {
   "cell_type": "code",
   "execution_count": 43,
   "metadata": {},
   "outputs": [
    {
     "name": "stdout",
     "output_type": "stream",
     "text": [
      "Current loss\n",
      "Making predictions\n",
      "Evaluating test loss\n",
      "{'loss': 0.1736240123630445}\n"
     ]
    }
   ],
   "source": [
    "print(\"Current loss\")\n",
    "run_test_deep()\n",
    "\n",
    "# print(\"parameter_difference\")\n",
    "# print_parameter_differences()"
   ]
  },
  {
   "cell_type": "code",
   "execution_count": 44,
   "metadata": {},
   "outputs": [
    {
     "name": "stdout",
     "output_type": "stream",
     "text": [
      "0.1818979087718204\n",
      "0.03335026188826796\n",
      "0.025779257078660925\n",
      "0.02660855056070475\n",
      "0.024484903497284577\n",
      "0.02126015360664035\n",
      "0.026126678614263567\n",
      "0.022740564906420246\n",
      "0.020890369251238154\n",
      "0.021474671423243396\n",
      "0.018448684920250577\n",
      "0.011650193246648519\n",
      "0.013108819320361816\n",
      "0.013258289611250076\n",
      "0.013712439405844008\n",
      "0.012664858654059368\n",
      "0.007681549959673024\n",
      "0.007156676945701394\n",
      "0.007515901159912775\n",
      "0.007420792802567097\n",
      "0.0069077091408545855\n",
      "0.006280770737541045\n",
      "0.0057324615094279975\n",
      "0.005075715034673248\n",
      "0.005802573884022808\n",
      "0.004938194621181189\n",
      "0.004490512636594225\n",
      "0.004671205806145351\n",
      "0.004325669088537053\n",
      "0.004378798748822347\n",
      "0.0026805678436054407\n",
      "0.0027020292813146433\n",
      "0.004380047823729379\n",
      "0.004244076007584351\n",
      "0.004378085312917091\n",
      "0.0046195232839443545\n",
      "0.003016338353098147\n",
      "0.0034973771709153824\n",
      "0.0033236543214503135\n",
      "0.00199812372932748\n",
      "0.003464390744569297\n",
      "0.0030364802992812663\n",
      "0.0039366476200090785\n",
      "0.0029736667303175996\n",
      "0.0037769702094416057\n",
      "0.003955602577699355\n",
      "0.003754609962687186\n",
      "0.0033975983037067\n",
      "0.0044211116055689285\n",
      "0.0035672450938570377\n",
      "0.003284236882181466\n",
      "0.002597776374378944\n",
      "0.003822540330516213\n",
      "0.0028409533648281085\n",
      "0.0043403760525529515\n",
      "0.002872394429283063\n",
      "0.0032634406856934034\n",
      "0.00319749712015274\n",
      "0.0026539238232244316\n",
      "0.0023904561995740626\n",
      "0.003498131349408989\n",
      "0.002123402760007859\n",
      "0.0032717673429662098\n",
      "0.0027238645880194212\n",
      "0.0025621459225665206\n",
      "0.00259322506427704\n",
      "0.002336020462146955\n",
      "0.002523643678933267\n",
      "0.0027906954750436365\n",
      "0.0021617449588456333\n",
      "0.002184762586148013\n",
      "0.003834614843801401\n",
      "0.002173467405996743\n",
      "0.0026923038985997563\n",
      "0.0022667656266557226\n",
      "0.0022616766179732843\n",
      "0.0037484443721988014\n",
      "0.0022348264030025416\n",
      "0.00229121629841739\n",
      "0.002654568547957693\n",
      "0.0030801285383131867\n",
      "0.0022637704363750754\n",
      "0.002865370642176587\n",
      "0.002038196021829562\n",
      "0.0017792000869232877\n",
      "0.0018910986792762474\n",
      "0.0022895373162261762\n",
      "0.002072850941911099\n",
      "0.0017971296031361948\n",
      "0.002311785747946444\n",
      "0.0020569123365187813\n",
      "0.0017041538153267104\n",
      "0.0018685736563840863\n",
      "0.001940357040520626\n",
      "0.0018260790278420093\n",
      "0.001558580791672982\n",
      "0.0022058014267267467\n",
      "0.0022185565599924626\n",
      "0.0016267623159612755\n",
      "0.002047030268533367\n",
      "0.0013836381562161097\n"
     ]
    }
   ],
   "source": [
    "for traning_cycles_num in range(traning_cycles_deep):\n",
    "    try:\n",
    "        loss = train_model_deep()\n",
    "    except ParameterChangeZero:\n",
    "        break\n",
    "\n",
    "    if traning_cycles_num % (traning_cycles_deep // training_reports_deep) == 0:\n",
    "        print(loss)\n",
    "print(loss)"
   ]
  },
  {
   "cell_type": "code",
   "execution_count": 45,
   "metadata": {},
   "outputs": [
    {
     "name": "stdout",
     "output_type": "stream",
     "text": [
      "Current loss\n",
      "Making predictions\n",
      "Evaluating test loss\n",
      "{'loss': 0.0015841017768401305}\n"
     ]
    }
   ],
   "source": [
    "print(\"Current loss\")\n",
    "run_test_deep()\n",
    "\n",
    "# print(\"parameter_difference\")\n",
    "# print_parameter_differences()"
   ]
  }
 ],
 "metadata": {
  "kernelspec": {
   "display_name": "Python 3",
   "language": "python",
   "name": "python3"
  },
  "language_info": {
   "codemirror_mode": {
    "name": "ipython",
    "version": 3
   },
   "file_extension": ".py",
   "mimetype": "text/x-python",
   "name": "python",
   "nbconvert_exporter": "python",
   "pygments_lexer": "ipython3",
   "version": "3.11.7"
  }
 },
 "nbformat": 4,
 "nbformat_minor": 2
}
