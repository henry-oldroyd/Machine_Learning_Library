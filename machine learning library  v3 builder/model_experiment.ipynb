{
 "cells": [
  {
   "cell_type": "code",
   "execution_count": 1,
   "metadata": {},
   "outputs": [],
   "source": [
    "from model import *\n",
    "\n",
    "from loss_functions import *\n",
    "from layers import *\n",
    "from activation_functions import *"
   ]
  },
  {
   "cell_type": "code",
   "execution_count": 2,
   "metadata": {},
   "outputs": [],
   "source": [
    "# test 1\n",
    "num_input_neurons = 10\n",
    "loss_function_factory = lambda: MC_ME()\n",
    "batch_size = 100\n",
    "learning_rate = 10**-4\n",
    "\n",
    "num_layers = 1\n",
    "neurons_per_layer = [10 for _ in range(num_layers)]\n",
    "activation_funcions_per_layer = [RELU() for _ in range(num_layers)]\n",
    "\n",
    "data_set_size = 10**4\n"
   ]
  },
  {
   "cell_type": "code",
   "execution_count": 3,
   "metadata": {},
   "outputs": [],
   "source": [
    "def factory_neural_network():\n",
    "    return Neural_Network(\n",
    "        num_input_neurons=num_input_neurons,\n",
    "        loss_function=loss_function_factory(),\n",
    "        batch_size=batch_size,\n",
    "        learning_rate=learning_rate,\n",
    "        layers= [\n",
    "            Neural_Layer(\n",
    "                number_neurons = neuron_num,\n",
    "                activation_function = activation_func\n",
    "            )\n",
    "            for neuron_num, activation_func in zip(\n",
    "                neurons_per_layer, \n",
    "                activation_funcions_per_layer\n",
    "            )\n",
    "        ]\n",
    "    )\\\n",
    "        .set_full_validation(False)\\\n",
    "        .compile()\n"
   ]
  },
  {
   "cell_type": "code",
   "execution_count": 4,
   "metadata": {},
   "outputs": [
    {
     "name": "stdout",
     "output_type": "stream",
     "text": [
      "(10, 10000)\n",
      "(10, 10000)\n"
     ]
    }
   ],
   "source": [
    "target_network_deep = neural_network = factory_neural_network()\n",
    "data_set_X = np.random.uniform(-1, 1, (num_input_neurons, data_set_size))\n",
    "print(data_set_X.shape)\n",
    "data_set_Y = target_network_deep.make_predicitons(data_set_X)\n",
    "print(data_set_Y.shape)\n"
   ]
  },
  {
   "cell_type": "code",
   "execution_count": 5,
   "metadata": {},
   "outputs": [],
   "source": [
    "model = ML_Model(\n",
    "    neural_network = factory_neural_network(),\n",
    "    whole_dataset_raw = [data_set_X.T, data_set_Y.T]\n",
    ")"
   ]
  },
  {
   "cell_type": "code",
   "execution_count": 6,
   "metadata": {},
   "outputs": [
    {
     "data": {
      "text/plain": [
       "0.7047287182374455"
      ]
     },
     "execution_count": 6,
     "metadata": {},
     "output_type": "execute_result"
    }
   ],
   "source": [
    "model.test()"
   ]
  },
  {
   "cell_type": "code",
   "execution_count": 7,
   "metadata": {},
   "outputs": [
    {
     "data": {
      "text/plain": [
       "(5,\n",
       " [0.6930912749732787,\n",
       "  0.6930904070775424,\n",
       "  0.6930897463356869,\n",
       "  0.6930898931419878])"
      ]
     },
     "execution_count": 7,
     "metadata": {},
     "output_type": "execute_result"
    }
   ],
   "source": [
    "model.train(100)"
   ]
  },
  {
   "cell_type": "code",
   "execution_count": 8,
   "metadata": {},
   "outputs": [
    {
     "data": {
      "text/plain": [
       "0.7047274063774037"
      ]
     },
     "execution_count": 8,
     "metadata": {},
     "output_type": "execute_result"
    }
   ],
   "source": [
    "model.test()"
   ]
  }
 ],
 "metadata": {
  "kernelspec": {
   "display_name": "Python 3",
   "language": "python",
   "name": "python3"
  },
  "language_info": {
   "codemirror_mode": {
    "name": "ipython",
    "version": 3
   },
   "file_extension": ".py",
   "mimetype": "text/x-python",
   "name": "python",
   "nbconvert_exporter": "python",
   "pygments_lexer": "ipython3",
   "version": "3.11.7"
  }
 },
 "nbformat": 4,
 "nbformat_minor": 2
}
