{
 "cells": [
  {
   "cell_type": "code",
   "execution_count": 1,
   "metadata": {},
   "outputs": [],
   "source": [
    "from loss_functions_no_builder import *"
   ]
  },
  {
   "cell_type": "code",
   "execution_count": 2,
   "metadata": {},
   "outputs": [],
   "source": [
    "mse = MSE(\n",
    "    batch_size=5,\n",
    "    vector_size=5\n",
    ")"
   ]
  },
  {
   "cell_type": "code",
   "execution_count": 3,
   "metadata": {},
   "outputs": [
    {
     "data": {
      "text/plain": [
       "(array([[-2.88662553,  2.03065921, -0.78781535,  4.73458977,  0.06422555],\n",
       "        [ 1.19312235, -0.27038987,  1.18919667,  2.2806915 , -4.08276107],\n",
       "        [ 1.82396458,  3.97386336, -0.42283806, -1.81992142,  0.81425419],\n",
       "        [ 3.31711243, -4.44532561, -1.1625623 ,  3.37318701,  1.54317807],\n",
       "        [ 4.7387469 , -1.36077777, -4.25831618, -2.4553162 , -0.27055852]]),\n",
       " array([[-2.40977834,  0.11822237, -2.9796593 ,  2.88588709, -1.10965164],\n",
       "        [-3.98225704, -3.98901221, -4.20837477, -1.76865942,  1.90723647],\n",
       "        [ 4.40674032, -4.53680677,  2.35196736,  3.13274768,  2.54857528],\n",
       "        [ 2.09808383,  2.73519026,  4.47340795, -3.89108022,  1.2592526 ],\n",
       "        [-0.82487429, -4.82418788, -1.27910795, -3.00720147, -1.09124191]]))"
      ]
     },
     "execution_count": 3,
     "metadata": {},
     "output_type": "execute_result"
    }
   ],
   "source": [
    "(\n",
    "    (Y := np.random.uniform(-5, 5, (5, 5))),\n",
    "    (P := np.random.uniform(-5, 5, (5, 5)))\n",
    ")\n"
   ]
  },
  {
   "cell_type": "code",
   "execution_count": 4,
   "metadata": {},
   "outputs": [
    {
     "data": {
      "text/plain": [
       "88.06202134366839"
      ]
     },
     "execution_count": 4,
     "metadata": {},
     "output_type": "execute_result"
    }
   ],
   "source": [
    "mse.compute_loss(P, Y)"
   ]
  },
  {
   "cell_type": "code",
   "execution_count": 5,
   "metadata": {},
   "outputs": [
    {
     "data": {
      "text/plain": [
       "array([[ 0.19073888, -0.76497474, -0.87673758, -0.73948107, -0.46955088],\n",
       "       [-2.07015175, -1.48744894, -2.15902857, -1.61974037,  2.39599902],\n",
       "       [ 1.0331103 , -3.40426805,  1.10992217,  1.98106764,  0.69372844],\n",
       "       [-0.48761144,  2.87220635,  2.2543881 , -2.90570689, -0.11357019],\n",
       "       [-2.22544848, -1.38536404,  1.19168329, -0.22075411, -0.32827335]])"
      ]
     },
     "execution_count": 5,
     "metadata": {},
     "output_type": "execute_result"
    }
   ],
   "source": [
    "mse.compute_loss_gradient()"
   ]
  },
  {
   "cell_type": "code",
   "execution_count": 6,
   "metadata": {},
   "outputs": [],
   "source": [
    "assert np.equal(mse.compute_loss_gradient(), mse.compute_loss_gradient(P, Y)).all()\n",
    "assert np.equal(mse.compute_loss_gradient(P, Y), mse.compute_loss_gradient()).all()"
   ]
  }
 ],
 "metadata": {
  "kernelspec": {
   "display_name": "Python 3",
   "language": "python",
   "name": "python3"
  },
  "language_info": {
   "codemirror_mode": {
    "name": "ipython",
    "version": 3
   },
   "file_extension": ".py",
   "mimetype": "text/x-python",
   "name": "python",
   "nbconvert_exporter": "python",
   "pygments_lexer": "ipython3",
   "version": "3.11.7"
  }
 },
 "nbformat": 4,
 "nbformat_minor": 2
}
